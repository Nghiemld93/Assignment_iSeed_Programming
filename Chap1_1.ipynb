{
 "cells": [
  {
   "cell_type": "code",
   "execution_count": null,
   "metadata": {},
   "outputs": [],
   "source": [
    "#Q12\n",
    "int(\"num\",2)        #1\n",
    "int(\"num\",8)        #2\n",
    "int(\"num\",16)       #3"
   ]
  },
  {
   "cell_type": "code",
   "execution_count": null,
   "metadata": {},
   "outputs": [],
   "source": [
    "#Q13\n",
    "\n",
    "int(\"1002\",2)   # 1002 -> 1001\n",
    "int(\"1008\",8)   # 1008 -> 1001\n",
    "int(\"AAFG\",16)   # AAFG -> AADF"
   ]
  },
  {
   "cell_type": "code",
   "execution_count": null,
   "metadata": {},
   "outputs": [],
   "source": [
    "#Q14\n",
    "#2 is incorrect"
   ]
  },
  {
   "cell_type": "code",
   "execution_count": 21,
   "metadata": {},
   "outputs": [
    {
     "name": "stdout",
     "output_type": "stream",
     "text": [
      "10 ==>  12345678\n",
      "16 ==>  12345678\n",
      "8 ==> 12345678\n",
      "2 ==> 12345678\n"
     ]
    }
   ],
   "source": [
    "num = int(\"12345678\",10)\n",
    "hex_num = int(\"0xbc614e\",16)\n",
    "oct_num = int(\"0o57060516\",8)\n",
    "bin_num = int(\"0b101111000110000101001110\",2)\n",
    "print ( \"10 ==> \", num)\n",
    "print(\"16 ==> \", hex_num)\n",
    "print(\"8 ==>\", oct_num)\n",
    "print(\"2 ==>\", bin_num)"
   ]
  },
  {
   "cell_type": "code",
   "execution_count": null,
   "metadata": {},
   "outputs": [],
   "source": []
  }
 ],
 "metadata": {
  "kernelspec": {
   "display_name": "Python 3",
   "language": "python",
   "name": "python3"
  },
  "language_info": {
   "codemirror_mode": {
    "name": "ipython",
    "version": 3
   },
   "file_extension": ".py",
   "mimetype": "text/x-python",
   "name": "python",
   "nbconvert_exporter": "python",
   "pygments_lexer": "ipython3",
   "version": "3.10.11"
  }
 },
 "nbformat": 4,
 "nbformat_minor": 2
}
