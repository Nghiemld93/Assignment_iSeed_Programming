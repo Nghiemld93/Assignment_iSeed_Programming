{
 "cells": [
  {
   "cell_type": "code",
   "execution_count": 1,
   "metadata": {},
   "outputs": [
    {
     "name": "stdout",
     "output_type": "stream",
     "text": [
      "100\n",
      "100\n",
      "100\n",
      "50+50\n"
     ]
    }
   ],
   "source": [
    "#Q1\n",
    "print(\"100\")        #1\n",
    "print(100)          #2\n",
    "print(50+50)        #3\n",
    "print(\"50+50\")      #4"
   ]
  },
  {
   "cell_type": "code",
   "execution_count": 7,
   "metadata": {},
   "outputs": [
    {
     "name": "stdout",
     "output_type": "stream",
     "text": [
      "5/10 = 0\n"
     ]
    }
   ],
   "source": [
    "#Q2\n",
    "print('%d/%d = %d' %(5,10,5/10))"
   ]
  },
  {
   "cell_type": "code",
   "execution_count": 33,
   "metadata": {},
   "outputs": [
    {
     "name": "stdout",
     "output_type": "stream",
     "text": [
      "0876\n",
      "CookBook\n",
      "123.5\n"
     ]
    }
   ],
   "source": [
    "#Q3\n",
    "print(\"%04d\" %876)\n",
    "print(\"%5s\" % \"CookBook\")\n",
    "print(\"%1.1f\" % 123.45)"
   ]
  },
  {
   "cell_type": "code",
   "execution_count": 34,
   "metadata": {},
   "outputs": [
    {
     "name": "stdout",
     "output_type": "stream",
     "text": [
      "333 111 222\n"
     ]
    }
   ],
   "source": [
    "#Q4\n",
    "print(\"{2:d} {0:d} {1:d}\".format(111,222,333))"
   ]
  },
  {
   "cell_type": "code",
   "execution_count": 37,
   "metadata": {},
   "outputs": [
    {
     "name": "stdout",
     "output_type": "stream",
     "text": [
      "Hel\n",
      "lo\twor\\l'd\"!\n"
     ]
    }
   ],
   "source": [
    "#Q5\n",
    "print ( \"Hel\\nlo\\tw \\bor\\\\l\\'d\\\"!\")"
   ]
  },
  {
   "cell_type": "code",
   "execution_count": null,
   "metadata": {},
   "outputs": [],
   "source": [
    "#Q6\n",
    "#4 : Character"
   ]
  },
  {
   "cell_type": "code",
   "execution_count": 41,
   "metadata": {},
   "outputs": [],
   "source": [
    "#Q7\n",
    "num1 = 100\n",
    "#100 = num1\n",
    "num1 = num2 = 100\n",
    "#num1 = 100 = num2 = 100\n",
    "num1 = num2 = num3 = 100"
   ]
  },
  {
   "cell_type": "code",
   "execution_count": 42,
   "metadata": {},
   "outputs": [
    {
     "ename": "SyntaxError",
     "evalue": "cannot assign to literal (4287271397.py, line 2)",
     "output_type": "error",
     "traceback": [
      "\u001b[1;36m  Cell \u001b[1;32mIn[42], line 2\u001b[1;36m\u001b[0m\n\u001b[1;33m    a = b = 10 = c = d = 20\u001b[0m\n\u001b[1;37m            ^\u001b[0m\n\u001b[1;31mSyntaxError\u001b[0m\u001b[1;31m:\u001b[0m cannot assign to literal\n"
     ]
    }
   ],
   "source": [
    "#Q8\n",
    "a = b = 10 = c = d = 20"
   ]
  },
  {
   "cell_type": "code",
   "execution_count": 43,
   "metadata": {},
   "outputs": [],
   "source": [
    "#Q9"
   ]
  },
  {
   "cell_type": "code",
   "execution_count": 55,
   "metadata": {},
   "outputs": [
    {
     "name": "stdout",
     "output_type": "stream",
     "text": [
      "3\n",
      "10\n",
      "17\n"
     ]
    }
   ],
   "source": [
    "#Q10\n",
    "binary_number = \" 0011\"\n",
    "decimal_number = int(binary_number,2)\n",
    "print(decimal_number)\n",
    "\n",
    "\n",
    "print(int(\"01010\",2))\n",
    "print(int(\"11\",16))\n",
    "\n",
    "#////////////////////#\n",
    "from datetime import datetime\n",
    "\n",
    "date_time = datetime(year = 2024, month=8, day=17)\n",
    "timestamp = date_time.timestamp()"
   ]
  },
  {
   "cell_type": "code",
   "execution_count": 56,
   "metadata": {},
   "outputs": [
    {
     "name": "stdout",
     "output_type": "stream",
     "text": [
      "11\n",
      "26\n"
     ]
    }
   ],
   "source": [
    "#Q11\n",
    "print(int(\"1011\",2))\n",
    "print(int(\"1A\",16))"
   ]
  },
  {
   "cell_type": "code",
   "execution_count": null,
   "metadata": {},
   "outputs": [],
   "source": []
  }
 ],
 "metadata": {
  "kernelspec": {
   "display_name": "Python 3",
   "language": "python",
   "name": "python3"
  },
  "language_info": {
   "codemirror_mode": {
    "name": "ipython",
    "version": 3
   },
   "file_extension": ".py",
   "mimetype": "text/x-python",
   "name": "python",
   "nbconvert_exporter": "python",
   "pygments_lexer": "ipython3",
   "version": "3.10.11"
  }
 },
 "nbformat": 4,
 "nbformat_minor": 2
}
